{
 "cells": [
  {
   "cell_type": "markdown",
   "metadata": {},
   "source": [
    "# Sistemas Inteligentes\n",
    "\n",
    "## Exercício Computacional 2 - Classificação\n",
    "\n",
    "Preencha todas as células adequadamente e responda todas as perguntas de forma completa e elaborada."
   ]
  },
  {
   "cell_type": "markdown",
   "metadata": {},
   "source": [
    "### Identificação do Aluno"
   ]
  },
  {
   "cell_type": "markdown",
   "metadata": {},
   "source": [
    "#### Nome Completo"
   ]
  },
  {
   "cell_type": "markdown",
   "metadata": {},
   "source": [
    "    Lucas Eduardo De Mieri\n",
    "   "
   ]
  },
  {
   "cell_type": "markdown",
   "metadata": {},
   "source": [
    "#### RA"
   ]
  },
  {
   "cell_type": "markdown",
   "metadata": {},
   "source": [
    "11201723007"
   ]
  },
  {
   "cell_type": "markdown",
   "metadata": {},
   "source": [
    "### Instruções\n",
    "\n",
    "Treine e teste um classificador à sua escolha utilizando a base de dados **Olivetti Faces** (veja as referências).\n",
    "\n",
    "Faça um caso com com *k-Fold* e um caso de forma direta, ou seja, utilizando o *train_test_split*.\n",
    "\n",
    "Exiba a acurácia e a *Confusion Matrix*, então discuta sobre o desempenho do classificador para os dois casos.\n",
    "\n",
    "Entre as células de códigos, insira células de tipo *Markdown* para fornecer explicações sobre os passos realizados; não insira apenas códigos \"soltos\" sem explicação.\n",
    "\n",
    "Dica: desta vez, estamos lidando com uma quantidade relativamente grande de classes, então pode ser interessante exibir a *Confusion Matrix* utilizando escala de cinza para representar os valores de cada célula da matriz; para fazer isso, prefira utilizar a função **imshow** com o mapa de cores (argumento **cmap**) do tipo **'Greys'**.\n",
    "\n",
    "**EXTRA**: tente fazer um caso com *Bootstrap* em vez de *k-Fold*, então comente sobre o método e os resultados."
   ]
  },
  {
   "cell_type": "markdown",
   "metadata": {},
   "source": [
    "## Desenvolvimento"
   ]
  },
  {
   "cell_type": "code",
   "execution_count": 5,
   "metadata": {},
   "outputs": [],
   "source": [
    "from sklearn.datasets import fetch_olivetti_faces\n",
    "from sklearn.model_selection import train_test_split"
   ]
  },
  {
   "cell_type": "code",
   "execution_count": 7,
   "metadata": {},
   "outputs": [
    {
     "data": {
      "text/plain": [
       "{'data': array([[0.30991736, 0.3677686 , 0.41735536, ..., 0.15289256, 0.16115703,\n",
       "         0.1570248 ],\n",
       "        [0.45454547, 0.47107437, 0.5123967 , ..., 0.15289256, 0.15289256,\n",
       "         0.15289256],\n",
       "        [0.3181818 , 0.40082645, 0.49173555, ..., 0.14049587, 0.14876033,\n",
       "         0.15289256],\n",
       "        ...,\n",
       "        [0.5       , 0.53305787, 0.607438  , ..., 0.17768595, 0.14876033,\n",
       "         0.19008264],\n",
       "        [0.21487603, 0.21900827, 0.21900827, ..., 0.57438016, 0.59090906,\n",
       "         0.60330576],\n",
       "        [0.5165289 , 0.46280992, 0.28099173, ..., 0.35950413, 0.3553719 ,\n",
       "         0.38429752]], dtype=float32),\n",
       " 'images': array([[[0.30991736, 0.3677686 , 0.41735536, ..., 0.37190083,\n",
       "          0.3305785 , 0.30578512],\n",
       "         [0.3429752 , 0.40495867, 0.43801653, ..., 0.37190083,\n",
       "          0.338843  , 0.3140496 ],\n",
       "         [0.3429752 , 0.41735536, 0.45041323, ..., 0.38016528,\n",
       "          0.338843  , 0.29752067],\n",
       "         ...,\n",
       "         [0.21487603, 0.20661157, 0.2231405 , ..., 0.15289256,\n",
       "          0.16528925, 0.17355372],\n",
       "         [0.20247933, 0.2107438 , 0.2107438 , ..., 0.14876033,\n",
       "          0.16115703, 0.16528925],\n",
       "         [0.20247933, 0.20661157, 0.20247933, ..., 0.15289256,\n",
       "          0.16115703, 0.1570248 ]],\n",
       " \n",
       "        [[0.45454547, 0.47107437, 0.5123967 , ..., 0.19008264,\n",
       "          0.18595041, 0.18595041],\n",
       "         [0.446281  , 0.48347107, 0.5206612 , ..., 0.21487603,\n",
       "          0.2107438 , 0.2107438 ],\n",
       "         [0.49586776, 0.5165289 , 0.53305787, ..., 0.20247933,\n",
       "          0.20661157, 0.20661157],\n",
       "         ...,\n",
       "         [0.77272725, 0.78099173, 0.7933884 , ..., 0.1446281 ,\n",
       "          0.1446281 , 0.1446281 ],\n",
       "         [0.77272725, 0.7768595 , 0.7892562 , ..., 0.13636364,\n",
       "          0.13636364, 0.13636364],\n",
       "         [0.7644628 , 0.7892562 , 0.78099173, ..., 0.15289256,\n",
       "          0.15289256, 0.15289256]],\n",
       " \n",
       "        [[0.3181818 , 0.40082645, 0.49173555, ..., 0.40082645,\n",
       "          0.3553719 , 0.30991736],\n",
       "         [0.30991736, 0.3966942 , 0.47933885, ..., 0.40495867,\n",
       "          0.37603307, 0.30165288],\n",
       "         [0.26859504, 0.34710744, 0.45454547, ..., 0.3966942 ,\n",
       "          0.37190083, 0.30991736],\n",
       "         ...,\n",
       "         [0.1322314 , 0.09917355, 0.08264463, ..., 0.13636364,\n",
       "          0.14876033, 0.15289256],\n",
       "         [0.11570248, 0.09504132, 0.0785124 , ..., 0.1446281 ,\n",
       "          0.1446281 , 0.1570248 ],\n",
       "         [0.11157025, 0.09090909, 0.0785124 , ..., 0.14049587,\n",
       "          0.14876033, 0.15289256]],\n",
       " \n",
       "        ...,\n",
       " \n",
       "        [[0.5       , 0.53305787, 0.607438  , ..., 0.28512397,\n",
       "          0.23966943, 0.21487603],\n",
       "         [0.49173555, 0.5413223 , 0.60330576, ..., 0.29752067,\n",
       "          0.20247933, 0.20661157],\n",
       "         [0.46694216, 0.55785125, 0.6198347 , ..., 0.29752067,\n",
       "          0.17768595, 0.18595041],\n",
       "         ...,\n",
       "         [0.03305785, 0.46280992, 0.5289256 , ..., 0.17355372,\n",
       "          0.17355372, 0.1694215 ],\n",
       "         [0.1570248 , 0.5247934 , 0.53305787, ..., 0.16528925,\n",
       "          0.1570248 , 0.18595041],\n",
       "         [0.45454547, 0.5206612 , 0.53305787, ..., 0.17768595,\n",
       "          0.14876033, 0.19008264]],\n",
       " \n",
       "        [[0.21487603, 0.21900827, 0.21900827, ..., 0.71487606,\n",
       "          0.71487606, 0.6942149 ],\n",
       "         [0.20247933, 0.20661157, 0.20661157, ..., 0.7107438 ,\n",
       "          0.7066116 , 0.6942149 ],\n",
       "         [0.2107438 , 0.20661157, 0.20661157, ..., 0.6859504 ,\n",
       "          0.69008267, 0.6942149 ],\n",
       "         ...,\n",
       "         [0.2644628 , 0.25619835, 0.2603306 , ..., 0.5413223 ,\n",
       "          0.57438016, 0.59090906],\n",
       "         [0.26859504, 0.2644628 , 0.26859504, ..., 0.56198347,\n",
       "          0.58264464, 0.59504133],\n",
       "         [0.27272728, 0.26859504, 0.27272728, ..., 0.57438016,\n",
       "          0.59090906, 0.60330576]],\n",
       " \n",
       "        [[0.5165289 , 0.46280992, 0.28099173, ..., 0.5785124 ,\n",
       "          0.5413223 , 0.60330576],\n",
       "         [0.5165289 , 0.45041323, 0.29338843, ..., 0.58264464,\n",
       "          0.553719  , 0.5785124 ],\n",
       "         [0.5165289 , 0.44214877, 0.29338843, ..., 0.59917355,\n",
       "          0.5785124 , 0.54545456],\n",
       "         ...,\n",
       "         [0.39256197, 0.41322315, 0.38842976, ..., 0.33471075,\n",
       "          0.37190083, 0.3966942 ],\n",
       "         [0.39256197, 0.38429752, 0.40495867, ..., 0.3305785 ,\n",
       "          0.35950413, 0.37603307],\n",
       "         [0.3677686 , 0.40495867, 0.3966942 , ..., 0.35950413,\n",
       "          0.3553719 , 0.38429752]]], dtype=float32),\n",
       " 'target': array([ 0,  0,  0,  0,  0,  0,  0,  0,  0,  0,  1,  1,  1,  1,  1,  1,  1,\n",
       "         1,  1,  1,  2,  2,  2,  2,  2,  2,  2,  2,  2,  2,  3,  3,  3,  3,\n",
       "         3,  3,  3,  3,  3,  3,  4,  4,  4,  4,  4,  4,  4,  4,  4,  4,  5,\n",
       "         5,  5,  5,  5,  5,  5,  5,  5,  5,  6,  6,  6,  6,  6,  6,  6,  6,\n",
       "         6,  6,  7,  7,  7,  7,  7,  7,  7,  7,  7,  7,  8,  8,  8,  8,  8,\n",
       "         8,  8,  8,  8,  8,  9,  9,  9,  9,  9,  9,  9,  9,  9,  9, 10, 10,\n",
       "        10, 10, 10, 10, 10, 10, 10, 10, 11, 11, 11, 11, 11, 11, 11, 11, 11,\n",
       "        11, 12, 12, 12, 12, 12, 12, 12, 12, 12, 12, 13, 13, 13, 13, 13, 13,\n",
       "        13, 13, 13, 13, 14, 14, 14, 14, 14, 14, 14, 14, 14, 14, 15, 15, 15,\n",
       "        15, 15, 15, 15, 15, 15, 15, 16, 16, 16, 16, 16, 16, 16, 16, 16, 16,\n",
       "        17, 17, 17, 17, 17, 17, 17, 17, 17, 17, 18, 18, 18, 18, 18, 18, 18,\n",
       "        18, 18, 18, 19, 19, 19, 19, 19, 19, 19, 19, 19, 19, 20, 20, 20, 20,\n",
       "        20, 20, 20, 20, 20, 20, 21, 21, 21, 21, 21, 21, 21, 21, 21, 21, 22,\n",
       "        22, 22, 22, 22, 22, 22, 22, 22, 22, 23, 23, 23, 23, 23, 23, 23, 23,\n",
       "        23, 23, 24, 24, 24, 24, 24, 24, 24, 24, 24, 24, 25, 25, 25, 25, 25,\n",
       "        25, 25, 25, 25, 25, 26, 26, 26, 26, 26, 26, 26, 26, 26, 26, 27, 27,\n",
       "        27, 27, 27, 27, 27, 27, 27, 27, 28, 28, 28, 28, 28, 28, 28, 28, 28,\n",
       "        28, 29, 29, 29, 29, 29, 29, 29, 29, 29, 29, 30, 30, 30, 30, 30, 30,\n",
       "        30, 30, 30, 30, 31, 31, 31, 31, 31, 31, 31, 31, 31, 31, 32, 32, 32,\n",
       "        32, 32, 32, 32, 32, 32, 32, 33, 33, 33, 33, 33, 33, 33, 33, 33, 33,\n",
       "        34, 34, 34, 34, 34, 34, 34, 34, 34, 34, 35, 35, 35, 35, 35, 35, 35,\n",
       "        35, 35, 35, 36, 36, 36, 36, 36, 36, 36, 36, 36, 36, 37, 37, 37, 37,\n",
       "        37, 37, 37, 37, 37, 37, 38, 38, 38, 38, 38, 38, 38, 38, 38, 38, 39,\n",
       "        39, 39, 39, 39, 39, 39, 39, 39, 39]),\n",
       " 'DESCR': 'Modified Olivetti faces dataset.\\n\\nThe original database was available from\\n\\n    http://www.cl.cam.ac.uk/research/dtg/attarchive/facedatabase.html\\n\\nThe version retrieved here comes in MATLAB format from the personal\\nweb page of Sam Roweis:\\n\\n    http://www.cs.nyu.edu/~roweis/\\n\\nThere are ten different images of each of 40 distinct subjects. For some\\nsubjects, the images were taken at different times, varying the lighting,\\nfacial expressions (open / closed eyes, smiling / not smiling) and facial\\ndetails (glasses / no glasses). All the images were taken against a dark\\nhomogeneous background with the subjects in an upright, frontal position (with\\ntolerance for some side movement).\\n\\nThe original dataset consisted of 92 x 112, while the Roweis version\\nconsists of 64x64 images.\\n'}"
      ]
     },
     "execution_count": 7,
     "metadata": {},
     "output_type": "execute_result"
    }
   ],
   "source": [
    "data= fetch_olivetti_faces()\n",
    "data\n",
    "data_train,data_test = train_test_split()"
   ]
  },
  {
   "cell_type": "markdown",
   "metadata": {},
   "source": [
    "## Questões"
   ]
  },
  {
   "cell_type": "markdown",
   "metadata": {},
   "source": [
    "### 1. O classificador escolhido por você obteve um bom desempenho em sua opinião? Por que?"
   ]
  },
  {
   "cell_type": "markdown",
   "metadata": {},
   "source": [
    "ESCREVA AQUI A SUA RESPOSTA"
   ]
  },
  {
   "cell_type": "markdown",
   "metadata": {},
   "source": [
    "### 2. Além da acurácia e da matriz de confusão, quais métricas e recursos poderiam ser utilizados para avaliar o seu classificador?"
   ]
  },
  {
   "cell_type": "markdown",
   "metadata": {},
   "source": [
    "ESCREVA AQUI A SUA RESPOSTA"
   ]
  },
  {
   "cell_type": "markdown",
   "metadata": {},
   "source": [
    "### 3. O seu classificador obteve um desempenho notoriamente superior ou inferior para alguma das classes? Para qual(is)? Por que você acredita que isso ocorreu?"
   ]
  },
  {
   "cell_type": "markdown",
   "metadata": {},
   "source": [
    "ESCREVA AQUI A SUA RESPOSTA"
   ]
  },
  {
   "cell_type": "markdown",
   "metadata": {},
   "source": [
    "### 4. O que se poderia fazer para melhorar o desempenho de seu classificador?"
   ]
  },
  {
   "cell_type": "markdown",
   "metadata": {},
   "source": [
    "ESCREVA AQUI A SUA RESPOSTA"
   ]
  },
  {
   "cell_type": "markdown",
   "metadata": {},
   "source": [
    "### 5. Se fosse utilizada apenas metade da base de dados deste exercício em vez de ela toda, mas mantendo as proporções para os dados de treinamento e teste, os resultados sofreriam alguma mudança significativa? Se sim, quais e em qual intensidade?"
   ]
  },
  {
   "cell_type": "markdown",
   "metadata": {},
   "source": [
    "ESCREVA AQUI A SUA RESPOSTA"
   ]
  },
  {
   "cell_type": "markdown",
   "metadata": {},
   "source": [
    "### 6. Para quê servem métodos como k-Fold e Bootstrap? Você observou alguma mudança significativa por conta de sua utilização? Se sim, qual? E a quê se deve isso?"
   ]
  },
  {
   "cell_type": "markdown",
   "metadata": {},
   "source": [
    "ESCREVA AQUI A SUA RESPOSTA"
   ]
  },
  {
   "cell_type": "markdown",
   "metadata": {},
   "source": [
    "## Referências"
   ]
  },
  {
   "cell_type": "markdown",
   "metadata": {},
   "source": [
    "[Scikit-Learn - Datasets - Olivetti Faces](http://scikit-learn.org/stable/modules/generated/sklearn.datasets.fetch_olivetti_faces.html)\n",
    "\n",
    "[Matplotlib - Pyplot](https://matplotlib.org/api/pyplot_summary.html)\n",
    "\n",
    "[Numpy](https://docs.scipy.org/doc/numpy/reference/)\n",
    "\n",
    "[Scikit-Learn - Train, Test and Split](http://scikit-learn.org/stable/modules/generated/sklearn.model_selection.train_test_split.html)\n",
    "\n",
    "[Scikit-Learn - KFold](http://scikit-learn.org/stable/modules/generated/sklearn.model_selection.KFold.html#sklearn.model_selection.KFold)\n",
    "\n",
    "[Scikit-Learn - Resample (Bootstrap)](http://scikit-learn.org/stable/modules/generated/sklearn.utils.resample.html)\n",
    "\n",
    "[Scikit-Learn - KNeighborsClassifier](http://scikit-learn.org/stable/modules/generated/sklearn.neighbors.KNeighborsClassifier.html)\n",
    "\n",
    "[Scikit-Learn - DecisionTreeClassifier](http://scikit-learn.org/stable/modules/generated/sklearn.tree.DecisionTreeClassifier.html)\n",
    "\n",
    "[Scikit-Learn - LinearDiscriminantAnalysis](http://scikit-learn.org/stable/modules/generated/sklearn.discriminant_analysis.LinearDiscriminantAnalysis.html)\n",
    "\n",
    "[Scikit-Learn - LinearSVC](http://scikit-learn.org/stable/modules/generated/sklearn.svm.LinearSVC.html#sklearn.svm.LinearSVC)\n",
    "\n",
    "[Scikit-Learn - MLPClassifier](http://scikit-learn.org/stable/modules/generated/sklearn.neural_network.MLPClassifier.html#sklearn.neural_network.MLPClassifier)\n",
    "\n",
    "[Scikit-Learn - Accuracy Score](http://scikit-learn.org/stable/modules/generated/sklearn.metrics.accuracy_score.html)\n",
    "\n",
    "[Scikit-Learn - Confusion Matrix](http://scikit-learn.org/stable/modules/generated/sklearn.metrics.confusion_matrix.html)"
   ]
  },
  {
   "cell_type": "code",
   "execution_count": null,
   "metadata": {},
   "outputs": [],
   "source": []
  }
 ],
 "metadata": {
  "kernelspec": {
   "display_name": "Python 3",
   "language": "python",
   "name": "python3"
  },
  "language_info": {
   "codemirror_mode": {
    "name": "ipython",
    "version": 3
   },
   "file_extension": ".py",
   "mimetype": "text/x-python",
   "name": "python",
   "nbconvert_exporter": "python",
   "pygments_lexer": "ipython3",
   "version": "3.6.5"
  }
 },
 "nbformat": 4,
 "nbformat_minor": 2
}
